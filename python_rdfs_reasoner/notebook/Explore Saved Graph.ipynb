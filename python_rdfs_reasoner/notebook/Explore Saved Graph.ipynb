{
 "cells": [
  {
   "cell_type": "code",
   "execution_count": 9,
   "metadata": {},
   "outputs": [],
   "source": [
    "import networkx as nx\n",
    "import pandas as pd"
   ]
  },
  {
   "cell_type": "code",
   "execution_count": 18,
   "metadata": {},
   "outputs": [],
   "source": [
    "load_triples = pd.read_csv(\"../debug/debug_saved_graph_inferences\", sep=\",\", names=[\"head\", \"rel\", \"tail\"])\n"
   ]
  },
  {
   "cell_type": "code",
   "execution_count": 22,
   "metadata": {},
   "outputs": [
    {
     "data": {
      "text/html": [
       "<div>\n",
       "<table border=\"1\" class=\"dataframe\">\n",
       "  <thead>\n",
       "    <tr style=\"text-align: right;\">\n",
       "      <th></th>\n",
       "      <th>head</th>\n",
       "      <th>rel</th>\n",
       "      <th>tail</th>\n",
       "    </tr>\n",
       "  </thead>\n",
       "  <tbody>\n",
       "    <tr>\n",
       "      <th>0</th>\n",
       "      <td>http://www4.wiwiss.fu-berlin.de/sider/resource...</td>\n",
       "      <td>rdfs4a</td>\n",
       "      <td>http://www4.wiwiss.fu-berlin.de/sider/resource...</td>\n",
       "    </tr>\n",
       "    <tr>\n",
       "      <th>1</th>\n",
       "      <td>http://www4.wiwiss.fu-berlin.de/sider/resource...</td>\n",
       "      <td>rdfs4a</td>\n",
       "      <td>rdf:type rdf:type rdfs:Datatype</td>\n",
       "    </tr>\n",
       "    <tr>\n",
       "      <th>2</th>\n",
       "      <td>http://www4.wiwiss.fu-berlin.de/sider/resource...</td>\n",
       "      <td>rdfs4a</td>\n",
       "      <td>owl:NamedIndividual rdf:type rdfs:Datatype</td>\n",
       "    </tr>\n",
       "    <tr>\n",
       "      <th>3</th>\n",
       "      <td>:Stimulant predose:has_slang_term Stims</td>\n",
       "      <td>rdfs4a</td>\n",
       "      <td>:Stimulant rdf:type rdfs:Datatype</td>\n",
       "    </tr>\n",
       "    <tr>\n",
       "      <th>4</th>\n",
       "      <td>:Stimulant predose:has_slang_term Stims</td>\n",
       "      <td>rdfs4a</td>\n",
       "      <td>predose:has_slang_term rdf:type rdfs:Datatype</td>\n",
       "    </tr>\n",
       "  </tbody>\n",
       "</table>\n",
       "</div>"
      ],
      "text/plain": [
       "                                                head     rel  \\\n",
       "0  http://www4.wiwiss.fu-berlin.de/sider/resource...  rdfs4a   \n",
       "1  http://www4.wiwiss.fu-berlin.de/sider/resource...  rdfs4a   \n",
       "2  http://www4.wiwiss.fu-berlin.de/sider/resource...  rdfs4a   \n",
       "3            :Stimulant predose:has_slang_term Stims  rdfs4a   \n",
       "4            :Stimulant predose:has_slang_term Stims  rdfs4a   \n",
       "\n",
       "                                                tail  \n",
       "0  http://www4.wiwiss.fu-berlin.de/sider/resource...  \n",
       "1                    rdf:type rdf:type rdfs:Datatype  \n",
       "2         owl:NamedIndividual rdf:type rdfs:Datatype  \n",
       "3                  :Stimulant rdf:type rdfs:Datatype  \n",
       "4      predose:has_slang_term rdf:type rdfs:Datatype  "
      ]
     },
     "execution_count": 22,
     "metadata": {},
     "output_type": "execute_result"
    }
   ],
   "source": [
    "load_triples.head()"
   ]
  },
  {
   "cell_type": "code",
   "execution_count": 26,
   "metadata": {},
   "outputs": [],
   "source": [
    "G = nx.DiGraph()"
   ]
  },
  {
   "cell_type": "code",
   "execution_count": 27,
   "metadata": {},
   "outputs": [],
   "source": [
    "for index, row in load_triples.iterrows():\n",
    "    G.add_edges_from([(row[\"tail\"], row[\"head\"])], label=row[\"rel\"])"
   ]
  },
  {
   "cell_type": "code",
   "execution_count": 80,
   "metadata": {},
   "outputs": [
    {
     "data": {
      "text/plain": [
       "[('rdfs:domain rdfs:subClassOf rdfs:domain',\n",
       "  'rdfs:domain rdf:type rdfs:Class')]"
      ]
     },
     "execution_count": 80,
     "metadata": {},
     "output_type": "execute_result"
    }
   ],
   "source": [
    "G.edges(\"rdfs:domain rdfs:subClassOf rdfs:domain\")"
   ]
  },
  {
   "cell_type": "code",
   "execution_count": 30,
   "metadata": {},
   "outputs": [],
   "source": [
    "from termcolor import colored\n",
    "def get_chain_of_inference(node, inner=\"\"):\n",
    "    neig = G.edges(node)\n",
    "    if len(neig) == 2:\n",
    "        print(inner + neig[0][1] + \" & \" +  neig[1][1])\n",
    "        print colored(\"\\t=>\" + node, \"red\")\n",
    "        print(\"--\")\n",
    "        get_chain_of_inference(neig[0][1], inner = inner+\"\")\n",
    "        print(\"--\")\n",
    "        get_chain_of_inference(neig[1][1], inner = inner+\"\")\n",
    "    elif len(neig) == 1:\n",
    "        print(inner + neig[0][1])\n",
    "        print colored(\"\\t=>\" + node, \"red\")\n",
    "        print(\"--\")\n",
    "        get_chain_of_inference(neig[0][1], inner = inner+\"\")\n",
    "        print(\"--\")\n",
    "        \n",
    "        "
   ]
  },
  {
   "cell_type": "code",
   "execution_count": 29,
   "metadata": {},
   "outputs": [
    {
     "name": "stdout",
     "output_type": "stream",
     "text": [
      "http://www4.wiwiss.fu-berlin.de/sider/resource/drugs/2476 rdf:type owl:NamedIndividual\n",
      "\u001b[31m\t=>owl:NamedIndividual rdf:type rdfs:Datatype\u001b[0m\n",
      "--\n",
      "--\n"
     ]
    }
   ],
   "source": [
    "get_chain_of_inference(\"owl:NamedIndividual rdf:type rdfs:Datatype\")"
   ]
  }
 ],
 "metadata": {
  "kernelspec": {
   "display_name": "Python 2",
   "language": "python",
   "name": "python2"
  },
  "language_info": {
   "codemirror_mode": {
    "name": "ipython",
    "version": 2
   },
   "file_extension": ".py",
   "mimetype": "text/x-python",
   "name": "python",
   "nbconvert_exporter": "python",
   "pygments_lexer": "ipython2",
   "version": "2.7.12"
  }
 },
 "nbformat": 4,
 "nbformat_minor": 2
}
